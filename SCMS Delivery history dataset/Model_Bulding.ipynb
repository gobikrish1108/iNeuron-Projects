{
 "cells": [
  {
   "cell_type": "code",
   "execution_count": 1,
   "id": "eb17be09-12c2-42f6-a34f-5a49d5649e65",
   "metadata": {},
   "outputs": [],
   "source": [
    "import pandas as pd\n"
   ]
  },
  {
   "cell_type": "code",
   "execution_count": 2,
   "id": "72ccff77-e7a8-4bfb-96af-e2d31abba847",
   "metadata": {},
   "outputs": [],
   "source": [
    "dataset = pd.read_csv(\"SCMS_Delivery_History_Dataset.csv.xls\")\n"
   ]
  },
  {
   "cell_type": "code",
   "execution_count": 3,
   "id": "e482fce8-8f18-4875-823e-17c216a8f0ca",
   "metadata": {},
   "outputs": [
    {
     "data": {
      "text/html": [
       "<div>\n",
       "<style scoped>\n",
       "    .dataframe tbody tr th:only-of-type {\n",
       "        vertical-align: middle;\n",
       "    }\n",
       "\n",
       "    .dataframe tbody tr th {\n",
       "        vertical-align: top;\n",
       "    }\n",
       "\n",
       "    .dataframe thead th {\n",
       "        text-align: right;\n",
       "    }\n",
       "</style>\n",
       "<table border=\"1\" class=\"dataframe\">\n",
       "  <thead>\n",
       "    <tr style=\"text-align: right;\">\n",
       "      <th></th>\n",
       "      <th>Country</th>\n",
       "      <th>Shipment Mode</th>\n",
       "      <th>Product Group</th>\n",
       "      <th>Sub Classification</th>\n",
       "      <th>Brand</th>\n",
       "      <th>Unit of Measure (Per Pack)</th>\n",
       "      <th>Line Item Quantity</th>\n",
       "      <th>Line Item Value</th>\n",
       "      <th>Pack Price</th>\n",
       "    </tr>\n",
       "  </thead>\n",
       "  <tbody>\n",
       "    <tr>\n",
       "      <th>0</th>\n",
       "      <td>Côte d'Ivoire</td>\n",
       "      <td>Air</td>\n",
       "      <td>HRDT</td>\n",
       "      <td>HIV test</td>\n",
       "      <td>Reveal</td>\n",
       "      <td>30</td>\n",
       "      <td>19</td>\n",
       "      <td>551.0</td>\n",
       "      <td>29.00</td>\n",
       "    </tr>\n",
       "    <tr>\n",
       "      <th>1</th>\n",
       "      <td>Vietnam</td>\n",
       "      <td>Air</td>\n",
       "      <td>ARV</td>\n",
       "      <td>Pediatric</td>\n",
       "      <td>Generic</td>\n",
       "      <td>240</td>\n",
       "      <td>1000</td>\n",
       "      <td>6200.0</td>\n",
       "      <td>6.20</td>\n",
       "    </tr>\n",
       "    <tr>\n",
       "      <th>2</th>\n",
       "      <td>Côte d'Ivoire</td>\n",
       "      <td>Air</td>\n",
       "      <td>HRDT</td>\n",
       "      <td>HIV test</td>\n",
       "      <td>Determine</td>\n",
       "      <td>100</td>\n",
       "      <td>500</td>\n",
       "      <td>40000.0</td>\n",
       "      <td>80.00</td>\n",
       "    </tr>\n",
       "    <tr>\n",
       "      <th>3</th>\n",
       "      <td>Vietnam</td>\n",
       "      <td>Air</td>\n",
       "      <td>ARV</td>\n",
       "      <td>Adult</td>\n",
       "      <td>Generic</td>\n",
       "      <td>60</td>\n",
       "      <td>31920</td>\n",
       "      <td>127360.8</td>\n",
       "      <td>3.99</td>\n",
       "    </tr>\n",
       "    <tr>\n",
       "      <th>4</th>\n",
       "      <td>Vietnam</td>\n",
       "      <td>Air</td>\n",
       "      <td>ARV</td>\n",
       "      <td>Adult</td>\n",
       "      <td>Generic</td>\n",
       "      <td>60</td>\n",
       "      <td>38000</td>\n",
       "      <td>121600.0</td>\n",
       "      <td>3.20</td>\n",
       "    </tr>\n",
       "  </tbody>\n",
       "</table>\n",
       "</div>"
      ],
      "text/plain": [
       "         Country Shipment Mode Product Group Sub Classification      Brand  \\\n",
       "0  Côte d'Ivoire           Air          HRDT           HIV test     Reveal   \n",
       "1        Vietnam           Air           ARV          Pediatric    Generic   \n",
       "2  Côte d'Ivoire           Air          HRDT           HIV test  Determine   \n",
       "3        Vietnam           Air           ARV              Adult    Generic   \n",
       "4        Vietnam           Air           ARV              Adult    Generic   \n",
       "\n",
       "   Unit of Measure (Per Pack)  Line Item Quantity  Line Item Value  Pack Price  \n",
       "0                          30                  19            551.0       29.00  \n",
       "1                         240                1000           6200.0        6.20  \n",
       "2                         100                 500          40000.0       80.00  \n",
       "3                          60               31920         127360.8        3.99  \n",
       "4                          60               38000         121600.0        3.20  "
      ]
     },
     "execution_count": 3,
     "metadata": {},
     "output_type": "execute_result"
    }
   ],
   "source": [
    "columns_affecting_pack_price = [\n",
    "    'Country',\n",
    "    'Shipment Mode',\n",
    "    'Product Group',\n",
    "    'Sub Classification',\n",
    "    'Brand',\n",
    "    'Unit of Measure (Per Pack)',\n",
    "    'Line Item Quantity',\n",
    "    'Line Item Value',\n",
    "    'Pack Price'\n",
    "]\n",
    "\n",
    "# Create a new DataFrame with only the selected columns\n",
    "data = dataset[columns_affecting_pack_price].copy()\n",
    "\n",
    "# Display the new DataFrame\n",
    "data.head()\n"
   ]
  },
  {
   "cell_type": "code",
   "execution_count": 4,
   "id": "584fbefc-1327-4a68-ac8a-f51bdbef2b4d",
   "metadata": {},
   "outputs": [
    {
     "data": {
      "text/plain": [
       "(10324, 9)"
      ]
     },
     "execution_count": 4,
     "metadata": {},
     "output_type": "execute_result"
    }
   ],
   "source": [
    "data.shape"
   ]
  },
  {
   "cell_type": "code",
   "execution_count": 5,
   "id": "34b7101c-a605-4956-998b-2d82d16c313f",
   "metadata": {},
   "outputs": [
    {
     "data": {
      "text/plain": [
       "Country                         0\n",
       "Shipment Mode                 360\n",
       "Product Group                   0\n",
       "Sub Classification              0\n",
       "Brand                           0\n",
       "Unit of Measure (Per Pack)      0\n",
       "Line Item Quantity              0\n",
       "Line Item Value                 0\n",
       "Pack Price                      0\n",
       "dtype: int64"
      ]
     },
     "execution_count": 5,
     "metadata": {},
     "output_type": "execute_result"
    }
   ],
   "source": [
    "data.isnull().sum()"
   ]
  },
  {
   "cell_type": "code",
   "execution_count": 6,
   "id": "8610d5a6-620d-4ea1-832b-52375b53c9c6",
   "metadata": {},
   "outputs": [
    {
     "data": {
      "text/plain": [
       "Shipment Mode\n",
       "Air            6113\n",
       "Truck          2830\n",
       "Air Charter     650\n",
       "Ocean           371\n",
       "Name: count, dtype: int64"
      ]
     },
     "execution_count": 6,
     "metadata": {},
     "output_type": "execute_result"
    }
   ],
   "source": [
    "data['Shipment Mode'].value_counts()"
   ]
  },
  {
   "cell_type": "code",
   "execution_count": 7,
   "id": "6fc03ac6-a471-4d1c-9c46-48af8ac10d44",
   "metadata": {},
   "outputs": [],
   "source": [
    "# Find rows where 'Shipment Mode' is null\n",
    "null_shipment_mode_rows = data[data['Shipment Mode'].isnull()]\n",
    "\n",
    "# Iterate over each null 'Shipment Mode' row\n",
    "for index, row in null_shipment_mode_rows.iterrows():\n",
    "    # Get the country name from the null row\n",
    "    country = row['Country']\n",
    "    \n",
    "    # Find rows where 'Shipment Mode' is not null and country matches\n",
    "    not_null_shipment_modes = data[(data['Country'] == country) & (data['Shipment Mode'].notnull())]['Shipment Mode']\n",
    "    \n",
    "    # If there are valid shipment modes for this country\n",
    "    if not_null_shipment_modes.shape[0] > 0:\n",
    "        # Find the most common shipment mode for this country\n",
    "        most_common_shipment_mode = not_null_shipment_modes.mode().iloc[0]\n",
    "        \n",
    "        # Replace null 'Shipment Mode' with the most common mode for this country\n",
    "        data.at[index, 'Shipment Mode'] = most_common_shipment_mode\n"
   ]
  },
  {
   "cell_type": "code",
   "execution_count": 8,
   "id": "c0bf1871-8d23-4d56-94c2-c0f8c257a58d",
   "metadata": {},
   "outputs": [
    {
     "data": {
      "text/plain": [
       "Country                       0\n",
       "Shipment Mode                 0\n",
       "Product Group                 0\n",
       "Sub Classification            0\n",
       "Brand                         0\n",
       "Unit of Measure (Per Pack)    0\n",
       "Line Item Quantity            0\n",
       "Line Item Value               0\n",
       "Pack Price                    0\n",
       "dtype: int64"
      ]
     },
     "execution_count": 8,
     "metadata": {},
     "output_type": "execute_result"
    }
   ],
   "source": [
    "data.isnull().sum()"
   ]
  },
  {
   "cell_type": "code",
   "execution_count": 9,
   "id": "fed6f4ab-372e-4725-be36-5ad943f47bb7",
   "metadata": {},
   "outputs": [
    {
     "data": {
      "text/plain": [
       "Shipment Mode\n",
       "Air            6284\n",
       "Truck          2983\n",
       "Air Charter     686\n",
       "Ocean           371\n",
       "Name: count, dtype: int64"
      ]
     },
     "execution_count": 9,
     "metadata": {},
     "output_type": "execute_result"
    }
   ],
   "source": [
    "data['Shipment Mode'].value_counts()"
   ]
  },
  {
   "cell_type": "code",
   "execution_count": 10,
   "id": "9af00dec-f9a2-4169-837c-bbff6e7d6178",
   "metadata": {},
   "outputs": [
    {
     "data": {
      "image/png": "[encoded data removed]",
      "text/plain": [
       "<Figure size 1000x600 with 1 Axes>"
      ]
     },
     "metadata": {},
     "output_type": "display_data"
    }
   ],
   "source": [
    "import matplotlib.pyplot as plt\n",
    "\n",
    "# Extract the features for plotting\n",
    "x = data['Line Item Quantity']\n",
    "y = data['Line Item Value']\n",
    "\n",
    "# Plot the scatter plot\n",
    "plt.figure(figsize=(10, 6))\n",
    "plt.scatter(x, y, color='blue', alpha=0.5)\n",
    "plt.title('Scatter Plot of Line Item Quantity vs Line Item Value')\n",
    "plt.xlabel('Line Item Quantity')\n",
    "plt.ylabel('Line Item Value')\n",
    "plt.grid(True)\n",
    "plt.show()"
   ]
  },
  {
   "cell_type": "code",
   "execution_count": null,
   "id": "897ab0c1-dd50-4023-947c-b5a854523996",
   "metadata": {},
   "outputs": [],
   "source": []
  },
  {
   "cell_type": "markdown",
   "id": "303d0eb0-9a8e-43a4-a982-886f26409993",
   "metadata": {},
   "source": [
    "                              Feature Engineering\n",
    "                              "
   ]
  },
  {
   "cell_type": "raw",
   "id": "d55e4ac6-bdb2-4f6e-a2b1-90e38a402856",
   "metadata": {},
   "source": [
    "# Find the counts of each value in the 'Dosage Form' column\n",
    "dosage_form_counts = data['Dosage Form'].value_counts()\n",
    "dosage_form_counts\n",
    "\n",
    "# Identify values with counts below 100 with 'Others'\n",
    "values_to_replace = dosage_form_counts[dosage_form_counts < 500].index\n",
    "values_to_replace\n",
    "\n",
    "# Replace values below 100 with 'Others'\n",
    "data.loc[data['Dosage Form'].isin(values_to_replace), 'Dosage Form'] = 'Others'"
   ]
  },
  {
   "cell_type": "raw",
   "id": "9d5b398f-9192-4877-bf5d-e6fa21908cb5",
   "metadata": {},
   "source": [
    "data['Dosage Form'].value_counts()"
   ]
  },
  {
   "cell_type": "code",
   "execution_count": 11,
   "id": "45f650f2-7db4-42f9-aa8e-68f0f326ee2e",
   "metadata": {},
   "outputs": [],
   "source": [
    "# Find the counts of each value in the 'Brand' column\n",
    "brand_counts = data['Brand'].value_counts()\n",
    "brand_counts\n",
    "\n",
    "# Identify values with counts below 100\n",
    "brands_to_replace = brand_counts[brand_counts < 500].index\n",
    "brands_to_replace\n",
    "\n",
    "# Replace values below 100 with 'Others'\n",
    "data.loc[data['Brand'].isin(brands_to_replace), 'Brand'] = 'Others'\n"
   ]
  },
  {
   "cell_type": "code",
   "execution_count": 12,
   "id": "4e026db3-5545-4da7-bdb1-d9744d9bde9f",
   "metadata": {},
   "outputs": [
    {
     "data": {
      "text/plain": [
       "Brand\n",
       "Generic      7285\n",
       "Others       2240\n",
       "Determine     799\n",
       "Name: count, dtype: int64"
      ]
     },
     "execution_count": 12,
     "metadata": {},
     "output_type": "execute_result"
    }
   ],
   "source": [
    "data['Brand'].value_counts()"
   ]
  },
  {
   "cell_type": "code",
   "execution_count": null,
   "id": "6132b4eb-a6ce-499a-8f27-7973e710f27c",
   "metadata": {},
   "outputs": [],
   "source": []
  },
  {
   "cell_type": "code",
   "execution_count": 13,
   "id": "0489a749-9a42-4f28-b2f9-9a0952dd2e61",
   "metadata": {},
   "outputs": [],
   "source": [
    "# Find the counts of each value in the 'Country' column\n",
    "country_counts = data['Country'].value_counts()\n",
    "\n",
    "# Identify values with counts below 100\n",
    "countries_to_replace = country_counts[country_counts < 500].index\n",
    "\n",
    "# Replace values below 100 with 'Others'\n",
    "data.loc[data['Country'].isin(countries_to_replace), 'Country'] = 'Others'\n"
   ]
  },
  {
   "cell_type": "markdown",
   "id": "5686aae2-4c35-4d99-abbe-e0b47cc8841f",
   "metadata": {},
   "source": [
    "data['Country'].value_counts()"
   ]
  },
  {
   "cell_type": "code",
   "execution_count": 14,
   "id": "4564315a-6f9a-492e-92fd-87c3f5681cc5",
   "metadata": {},
   "outputs": [
    {
     "data": {
      "text/html": [
       "<div>\n",
       "<style scoped>\n",
       "    .dataframe tbody tr th:only-of-type {\n",
       "        vertical-align: middle;\n",
       "    }\n",
       "\n",
       "    .dataframe tbody tr th {\n",
       "        vertical-align: top;\n",
       "    }\n",
       "\n",
       "    .dataframe thead th {\n",
       "        text-align: right;\n",
       "    }\n",
       "</style>\n",
       "<table border=\"1\" class=\"dataframe\">\n",
       "  <thead>\n",
       "    <tr style=\"text-align: right;\">\n",
       "      <th></th>\n",
       "      <th>Country</th>\n",
       "      <th>Shipment Mode</th>\n",
       "      <th>Product Group</th>\n",
       "      <th>Sub Classification</th>\n",
       "      <th>Brand</th>\n",
       "      <th>Unit of Measure (Per Pack)</th>\n",
       "      <th>Line Item Quantity</th>\n",
       "      <th>Line Item Value</th>\n",
       "      <th>Pack Price</th>\n",
       "    </tr>\n",
       "  </thead>\n",
       "  <tbody>\n",
       "    <tr>\n",
       "      <th>0</th>\n",
       "      <td>Côte d'Ivoire</td>\n",
       "      <td>Air</td>\n",
       "      <td>HRDT</td>\n",
       "      <td>HIV test</td>\n",
       "      <td>Others</td>\n",
       "      <td>30</td>\n",
       "      <td>19</td>\n",
       "      <td>551.0</td>\n",
       "      <td>29.00</td>\n",
       "    </tr>\n",
       "    <tr>\n",
       "      <th>1</th>\n",
       "      <td>Vietnam</td>\n",
       "      <td>Air</td>\n",
       "      <td>ARV</td>\n",
       "      <td>Pediatric</td>\n",
       "      <td>Generic</td>\n",
       "      <td>240</td>\n",
       "      <td>1000</td>\n",
       "      <td>6200.0</td>\n",
       "      <td>6.20</td>\n",
       "    </tr>\n",
       "    <tr>\n",
       "      <th>2</th>\n",
       "      <td>Côte d'Ivoire</td>\n",
       "      <td>Air</td>\n",
       "      <td>HRDT</td>\n",
       "      <td>HIV test</td>\n",
       "      <td>Determine</td>\n",
       "      <td>100</td>\n",
       "      <td>500</td>\n",
       "      <td>40000.0</td>\n",
       "      <td>80.00</td>\n",
       "    </tr>\n",
       "    <tr>\n",
       "      <th>3</th>\n",
       "      <td>Vietnam</td>\n",
       "      <td>Air</td>\n",
       "      <td>ARV</td>\n",
       "      <td>Adult</td>\n",
       "      <td>Generic</td>\n",
       "      <td>60</td>\n",
       "      <td>31920</td>\n",
       "      <td>127360.8</td>\n",
       "      <td>3.99</td>\n",
       "    </tr>\n",
       "    <tr>\n",
       "      <th>4</th>\n",
       "      <td>Vietnam</td>\n",
       "      <td>Air</td>\n",
       "      <td>ARV</td>\n",
       "      <td>Adult</td>\n",
       "      <td>Generic</td>\n",
       "      <td>60</td>\n",
       "      <td>38000</td>\n",
       "      <td>121600.0</td>\n",
       "      <td>3.20</td>\n",
       "    </tr>\n",
       "  </tbody>\n",
       "</table>\n",
       "</div>"
      ],
      "text/plain": [
       "         Country Shipment Mode Product Group Sub Classification      Brand  \\\n",
       "0  Côte d'Ivoire           Air          HRDT           HIV test     Others   \n",
       "1        Vietnam           Air           ARV          Pediatric    Generic   \n",
       "2  Côte d'Ivoire           Air          HRDT           HIV test  Determine   \n",
       "3        Vietnam           Air           ARV              Adult    Generic   \n",
       "4        Vietnam           Air           ARV              Adult    Generic   \n",
       "\n",
       "   Unit of Measure (Per Pack)  Line Item Quantity  Line Item Value  Pack Price  \n",
       "0                          30                  19            551.0       29.00  \n",
       "1                         240                1000           6200.0        6.20  \n",
       "2                         100                 500          40000.0       80.00  \n",
       "3                          60               31920         127360.8        3.99  \n",
       "4                          60               38000         121600.0        3.20  "
      ]
     },
     "execution_count": 14,
     "metadata": {},
     "output_type": "execute_result"
    }
   ],
   "source": [
    "data.head()"
   ]
  },
  {
   "cell_type": "code",
   "execution_count": null,
   "id": "327f440a-818f-44b3-ab6b-93edf6f83ff8",
   "metadata": {},
   "outputs": [],
   "source": []
  },
  {
   "cell_type": "markdown",
   "id": "635e63cd-83aa-4843-ae3e-bfaf1ad6cb9a",
   "metadata": {},
   "source": [
    "                  One-Hot Encoding"
   ]
  },
  {
   "cell_type": "code",
   "execution_count": 15,
   "id": "6651f067-b090-4f77-848e-08bb4e3a6a80",
   "metadata": {},
   "outputs": [
    {
     "data": {
      "text/html": [
       "<div>\n",
       "<style scoped>\n",
       "    .dataframe tbody tr th:only-of-type {\n",
       "        vertical-align: middle;\n",
       "    }\n",
       "\n",
       "    .dataframe tbody tr th {\n",
       "        vertical-align: top;\n",
       "    }\n",
       "\n",
       "    .dataframe thead th {\n",
       "        text-align: right;\n",
       "    }\n",
       "</style>\n",
       "<table border=\"1\" class=\"dataframe\">\n",
       "  <thead>\n",
       "    <tr style=\"text-align: right;\">\n",
       "      <th></th>\n",
       "      <th>Unit of Measure (Per Pack)</th>\n",
       "      <th>Line Item Quantity</th>\n",
       "      <th>Line Item Value</th>\n",
       "      <th>Pack Price</th>\n",
       "      <th>Country_Côte d'Ivoire</th>\n",
       "      <th>Country_Haiti</th>\n",
       "      <th>Country_Mozambique</th>\n",
       "      <th>Country_Nigeria</th>\n",
       "      <th>Country_Others</th>\n",
       "      <th>Country_South Africa</th>\n",
       "      <th>...</th>\n",
       "      <th>Product Group_MRDT</th>\n",
       "      <th>Sub Classification_ACT</th>\n",
       "      <th>Sub Classification_Adult</th>\n",
       "      <th>Sub Classification_HIV test</th>\n",
       "      <th>Sub Classification_HIV test - Ancillary</th>\n",
       "      <th>Sub Classification_Malaria</th>\n",
       "      <th>Sub Classification_Pediatric</th>\n",
       "      <th>Brand_Determine</th>\n",
       "      <th>Brand_Generic</th>\n",
       "      <th>Brand_Others</th>\n",
       "    </tr>\n",
       "  </thead>\n",
       "  <tbody>\n",
       "    <tr>\n",
       "      <th>0</th>\n",
       "      <td>30</td>\n",
       "      <td>19</td>\n",
       "      <td>551.0</td>\n",
       "      <td>29.00</td>\n",
       "      <td>True</td>\n",
       "      <td>False</td>\n",
       "      <td>False</td>\n",
       "      <td>False</td>\n",
       "      <td>False</td>\n",
       "      <td>False</td>\n",
       "      <td>...</td>\n",
       "      <td>False</td>\n",
       "      <td>False</td>\n",
       "      <td>False</td>\n",
       "      <td>True</td>\n",
       "      <td>False</td>\n",
       "      <td>False</td>\n",
       "      <td>False</td>\n",
       "      <td>False</td>\n",
       "      <td>False</td>\n",
       "      <td>True</td>\n",
       "    </tr>\n",
       "    <tr>\n",
       "      <th>1</th>\n",
       "      <td>240</td>\n",
       "      <td>1000</td>\n",
       "      <td>6200.0</td>\n",
       "      <td>6.20</td>\n",
       "      <td>False</td>\n",
       "      <td>False</td>\n",
       "      <td>False</td>\n",
       "      <td>False</td>\n",
       "      <td>False</td>\n",
       "      <td>False</td>\n",
       "      <td>...</td>\n",
       "      <td>False</td>\n",
       "      <td>False</td>\n",
       "      <td>False</td>\n",
       "      <td>False</td>\n",
       "      <td>False</td>\n",
       "      <td>False</td>\n",
       "      <td>True</td>\n",
       "      <td>False</td>\n",
       "      <td>True</td>\n",
       "      <td>False</td>\n",
       "    </tr>\n",
       "    <tr>\n",
       "      <th>2</th>\n",
       "      <td>100</td>\n",
       "      <td>500</td>\n",
       "      <td>40000.0</td>\n",
       "      <td>80.00</td>\n",
       "      <td>True</td>\n",
       "      <td>False</td>\n",
       "      <td>False</td>\n",
       "      <td>False</td>\n",
       "      <td>False</td>\n",
       "      <td>False</td>\n",
       "      <td>...</td>\n",
       "      <td>False</td>\n",
       "      <td>False</td>\n",
       "      <td>False</td>\n",
       "      <td>True</td>\n",
       "      <td>False</td>\n",
       "      <td>False</td>\n",
       "      <td>False</td>\n",
       "      <td>True</td>\n",
       "      <td>False</td>\n",
       "      <td>False</td>\n",
       "    </tr>\n",
       "    <tr>\n",
       "      <th>3</th>\n",
       "      <td>60</td>\n",
       "      <td>31920</td>\n",
       "      <td>127360.8</td>\n",
       "      <td>3.99</td>\n",
       "      <td>False</td>\n",
       "      <td>False</td>\n",
       "      <td>False</td>\n",
       "      <td>False</td>\n",
       "      <td>False</td>\n",
       "      <td>False</td>\n",
       "      <td>...</td>\n",
       "      <td>False</td>\n",
       "      <td>False</td>\n",
       "      <td>True</td>\n",
       "      <td>False</td>\n",
       "      <td>False</td>\n",
       "      <td>False</td>\n",
       "      <td>False</td>\n",
       "      <td>False</td>\n",
       "      <td>True</td>\n",
       "      <td>False</td>\n",
       "    </tr>\n",
       "    <tr>\n",
       "      <th>4</th>\n",
       "      <td>60</td>\n",
       "      <td>38000</td>\n",
       "      <td>121600.0</td>\n",
       "      <td>3.20</td>\n",
       "      <td>False</td>\n",
       "      <td>False</td>\n",
       "      <td>False</td>\n",
       "      <td>False</td>\n",
       "      <td>False</td>\n",
       "      <td>False</td>\n",
       "      <td>...</td>\n",
       "      <td>False</td>\n",
       "      <td>False</td>\n",
       "      <td>True</td>\n",
       "      <td>False</td>\n",
       "      <td>False</td>\n",
       "      <td>False</td>\n",
       "      <td>False</td>\n",
       "      <td>False</td>\n",
       "      <td>True</td>\n",
       "      <td>False</td>\n",
       "    </tr>\n",
       "  </tbody>\n",
       "</table>\n",
       "<p>5 rows × 33 columns</p>\n",
       "</div>"
      ],
      "text/plain": [
       "   Unit of Measure (Per Pack)  Line Item Quantity  Line Item Value  \\\n",
       "0                          30                  19            551.0   \n",
       "1                         240                1000           6200.0   \n",
       "2                         100                 500          40000.0   \n",
       "3                          60               31920         127360.8   \n",
       "4                          60               38000         121600.0   \n",
       "\n",
       "   Pack Price  Country_Côte d'Ivoire  Country_Haiti  Country_Mozambique  \\\n",
       "0       29.00                   True          False               False   \n",
       "1        6.20                  False          False               False   \n",
       "2       80.00                   True          False               False   \n",
       "3        3.99                  False          False               False   \n",
       "4        3.20                  False          False               False   \n",
       "\n",
       "   Country_Nigeria  Country_Others  Country_South Africa  ...  \\\n",
       "0            False           False                 False  ...   \n",
       "1            False           False                 False  ...   \n",
       "2            False           False                 False  ...   \n",
       "3            False           False                 False  ...   \n",
       "4            False           False                 False  ...   \n",
       "\n",
       "   Product Group_MRDT  Sub Classification_ACT  Sub Classification_Adult  \\\n",
       "0               False                   False                     False   \n",
       "1               False                   False                     False   \n",
       "2               False                   False                     False   \n",
       "3               False                   False                      True   \n",
       "4               False                   False                      True   \n",
       "\n",
       "   Sub Classification_HIV test  Sub Classification_HIV test - Ancillary  \\\n",
       "0                         True                                    False   \n",
       "1                        False                                    False   \n",
       "2                         True                                    False   \n",
       "3                        False                                    False   \n",
       "4                        False                                    False   \n",
       "\n",
       "   Sub Classification_Malaria  Sub Classification_Pediatric  Brand_Determine  \\\n",
       "0                       False                         False            False   \n",
       "1                       False                          True            False   \n",
       "2                       False                         False             True   \n",
       "3                       False                         False            False   \n",
       "4                       False                         False            False   \n",
       "\n",
       "   Brand_Generic  Brand_Others  \n",
       "0          False          True  \n",
       "1           True         False  \n",
       "2          False         False  \n",
       "3           True         False  \n",
       "4           True         False  \n",
       "\n",
       "[5 rows x 33 columns]"
      ]
     },
     "execution_count": 15,
     "metadata": {},
     "output_type": "execute_result"
    }
   ],
   "source": [
    "# Select categorical columns\n",
    "categorical_columns = ['Country', 'Shipment Mode', 'Product Group', 'Sub Classification', 'Brand']\n",
    "\n",
    "# Apply one-hot encoding\n",
    "encoded_data = pd.get_dummies(data, columns=categorical_columns)\n",
    "\n",
    "# Display the encoded dataset\n",
    "encoded_data.head()"
   ]
  },
  {
   "cell_type": "code",
   "execution_count": 16,
   "id": "bfe2b040-5553-4ba6-ac85-17802742e5ce",
   "metadata": {},
   "outputs": [
    {
     "data": {
      "text/plain": [
       "Index(['Unit of Measure (Per Pack)', 'Line Item Quantity', 'Line Item Value',\n",
       "       'Pack Price', 'Country_Côte d'Ivoire', 'Country_Haiti',\n",
       "       'Country_Mozambique', 'Country_Nigeria', 'Country_Others',\n",
       "       'Country_South Africa', 'Country_Tanzania', 'Country_Uganda',\n",
       "       'Country_Vietnam', 'Country_Zambia', 'Country_Zimbabwe',\n",
       "       'Shipment Mode_Air', 'Shipment Mode_Air Charter', 'Shipment Mode_Ocean',\n",
       "       'Shipment Mode_Truck', 'Product Group_ACT', 'Product Group_ANTM',\n",
       "       'Product Group_ARV', 'Product Group_HRDT', 'Product Group_MRDT',\n",
       "       'Sub Classification_ACT', 'Sub Classification_Adult',\n",
       "       'Sub Classification_HIV test',\n",
       "       'Sub Classification_HIV test - Ancillary', 'Sub Classification_Malaria',\n",
       "       'Sub Classification_Pediatric', 'Brand_Determine', 'Brand_Generic',\n",
       "       'Brand_Others'],\n",
       "      dtype='object')"
      ]
     },
     "execution_count": 16,
     "metadata": {},
     "output_type": "execute_result"
    }
   ],
   "source": [
    "encoded_data.columns"
   ]
  },
  {
   "cell_type": "code",
   "execution_count": null,
   "id": "eafa03f2-9c07-4da8-b82d-ce22367cb4e8",
   "metadata": {},
   "outputs": [],
   "source": []
  },
  {
   "cell_type": "code",
   "execution_count": 17,
   "id": "4fe2415f-07f4-4074-8647-598f8b9fa9ea",
   "metadata": {},
   "outputs": [
    {
     "name": "stderr",
     "output_type": "stream",
     "text": [
      "C:\\Users\\GOBI\\anaconda3\\Lib\\site-packages\\sklearn\\base.py:439: UserWarning: X does not have valid feature names, but IsolationForest was fitted with feature names\n",
      "  warnings.warn(\n"
     ]
    },
    {
     "name": "stdout",
     "output_type": "stream",
     "text": [
      "Cleaned dataset after filtering out noisy data:\n"
     ]
    },
    {
     "data": {
      "text/plain": [
       "(9807, 33)"
      ]
     },
     "execution_count": 17,
     "metadata": {},
     "output_type": "execute_result"
    }
   ],
   "source": [
    "import numpy as np\n",
    "from sklearn.ensemble import IsolationForest\n",
    "\n",
    "# Define the features to be used for outlier detection\n",
    "features_for_outlier_detection = ['Unit of Measure (Per Pack)', 'Line Item Quantity', 'Line Item Value', 'Pack Price']\n",
    "\n",
    "# Initialize Isolation Forest outlier detector\n",
    "outlier_detector = IsolationForest(contamination=0.05)  # Adjust the contamination parameter as needed\n",
    "\n",
    "# Fit the outlier detector on the features\n",
    "outlier_detector.fit(encoded_data[features_for_outlier_detection])\n",
    "\n",
    "# Predict outliers\n",
    "outliers = outlier_detector.predict(encoded_data[features_for_outlier_detection])\n",
    "\n",
    "# Filter out noisy data\n",
    "cleaned_data = encoded_data[outliers == 1]  # Keep only the inliers (non-outliers)\n",
    "\n",
    "# Display the cleaned dataset\n",
    "print(\"Cleaned dataset after filtering out noisy data:\")\n",
    "cleaned_data.shape"
   ]
  },
  {
   "cell_type": "code",
   "execution_count": null,
   "id": "530323b0-62af-4736-98a9-b3d75dedae60",
   "metadata": {},
   "outputs": [],
   "source": []
  },
  {
   "cell_type": "code",
   "execution_count": null,
   "id": "2161741b-6eb4-4ed1-b229-73c057e9fcad",
   "metadata": {},
   "outputs": [],
   "source": []
  },
  {
   "cell_type": "code",
   "execution_count": 18,
   "id": "bd2e22f8-9d9d-43c0-9909-c40a2f11fa98",
   "metadata": {},
   "outputs": [
    {
     "data": {
      "text/html": [
       "<div>\n",
       "<style scoped>\n",
       "    .dataframe tbody tr th:only-of-type {\n",
       "        vertical-align: middle;\n",
       "    }\n",
       "\n",
       "    .dataframe tbody tr th {\n",
       "        vertical-align: top;\n",
       "    }\n",
       "\n",
       "    .dataframe thead th {\n",
       "        text-align: right;\n",
       "    }\n",
       "</style>\n",
       "<table border=\"1\" class=\"dataframe\">\n",
       "  <thead>\n",
       "    <tr style=\"text-align: right;\">\n",
       "      <th></th>\n",
       "      <th>Country</th>\n",
       "      <th>Shipment Mode</th>\n",
       "      <th>Product Group</th>\n",
       "      <th>Sub Classification</th>\n",
       "      <th>Brand</th>\n",
       "      <th>Unit of Measure (Per Pack)</th>\n",
       "      <th>Line Item Quantity</th>\n",
       "      <th>Line Item Value</th>\n",
       "      <th>Pack Price</th>\n",
       "    </tr>\n",
       "  </thead>\n",
       "  <tbody>\n",
       "    <tr>\n",
       "      <th>0</th>\n",
       "      <td>Côte d'Ivoire</td>\n",
       "      <td>Air</td>\n",
       "      <td>HRDT</td>\n",
       "      <td>HIV test</td>\n",
       "      <td>Others</td>\n",
       "      <td>30</td>\n",
       "      <td>19</td>\n",
       "      <td>551.0</td>\n",
       "      <td>29.0</td>\n",
       "    </tr>\n",
       "    <tr>\n",
       "      <th>1</th>\n",
       "      <td>Vietnam</td>\n",
       "      <td>Air</td>\n",
       "      <td>ARV</td>\n",
       "      <td>Pediatric</td>\n",
       "      <td>Generic</td>\n",
       "      <td>240</td>\n",
       "      <td>1000</td>\n",
       "      <td>6200.0</td>\n",
       "      <td>6.2</td>\n",
       "    </tr>\n",
       "  </tbody>\n",
       "</table>\n",
       "</div>"
      ],
      "text/plain": [
       "         Country Shipment Mode Product Group Sub Classification    Brand  \\\n",
       "0  Côte d'Ivoire           Air          HRDT           HIV test   Others   \n",
       "1        Vietnam           Air           ARV          Pediatric  Generic   \n",
       "\n",
       "   Unit of Measure (Per Pack)  Line Item Quantity  Line Item Value  Pack Price  \n",
       "0                          30                  19            551.0        29.0  \n",
       "1                         240                1000           6200.0         6.2  "
      ]
     },
     "execution_count": 18,
     "metadata": {},
     "output_type": "execute_result"
    }
   ],
   "source": [
    "# Display the new DataFrame\n",
    "data.head(2)\n"
   ]
  },
  {
   "cell_type": "code",
   "execution_count": 19,
   "id": "473dc72b-acb3-4bcd-95d1-ecd324488aaa",
   "metadata": {},
   "outputs": [
    {
     "data": {
      "text/plain": [
       "Country\n",
       "Others           2148\n",
       "South Africa     1406\n",
       "Nigeria          1194\n",
       "Côte d'Ivoire    1083\n",
       "Uganda            779\n",
       "Vietnam           688\n",
       "Zambia            683\n",
       "Haiti             655\n",
       "Mozambique        631\n",
       "Zimbabwe          538\n",
       "Tanzania          519\n",
       "Name: count, dtype: int64"
      ]
     },
     "execution_count": 19,
     "metadata": {},
     "output_type": "execute_result"
    }
   ],
   "source": [
    "data['Country'].value_counts()"
   ]
  },
  {
   "cell_type": "code",
   "execution_count": 20,
   "id": "fa2cada6-7b36-41b8-9775-601e3c43f078",
   "metadata": {},
   "outputs": [
    {
     "data": {
      "text/plain": [
       "Shipment Mode\n",
       "Air            6284\n",
       "Truck          2983\n",
       "Air Charter     686\n",
       "Ocean           371\n",
       "Name: count, dtype: int64"
      ]
     },
     "execution_count": 20,
     "metadata": {},
     "output_type": "execute_result"
    }
   ],
   "source": [
    "data['Shipment Mode'].value_counts()"
   ]
  },
  {
   "cell_type": "code",
   "execution_count": 21,
   "id": "f1a986fa-72f5-418d-878e-8588ce6785b0",
   "metadata": {},
   "outputs": [
    {
     "data": {
      "text/plain": [
       "Product Group\n",
       "ARV     8550\n",
       "HRDT    1728\n",
       "ANTM      22\n",
       "ACT       16\n",
       "MRDT       8\n",
       "Name: count, dtype: int64"
      ]
     },
     "execution_count": 21,
     "metadata": {},
     "output_type": "execute_result"
    }
   ],
   "source": [
    "data['Product Group'].value_counts()"
   ]
  },
  {
   "cell_type": "code",
   "execution_count": 22,
   "id": "eb89ea79-673a-4ba3-bf91-1a1e4af1a3db",
   "metadata": {},
   "outputs": [
    {
     "data": {
      "text/plain": [
       "Sub Classification\n",
       "Adult                   6595\n",
       "Pediatric               1955\n",
       "HIV test                1567\n",
       "HIV test - Ancillary     161\n",
       "Malaria                   30\n",
       "ACT                       16\n",
       "Name: count, dtype: int64"
      ]
     },
     "execution_count": 22,
     "metadata": {},
     "output_type": "execute_result"
    }
   ],
   "source": [
    "data['Sub Classification'].value_counts()"
   ]
  },
  {
   "cell_type": "code",
   "execution_count": 23,
   "id": "28af1de1-b10d-4f75-a86f-c31ff810035d",
   "metadata": {},
   "outputs": [
    {
     "data": {
      "text/plain": [
       "Brand\n",
       "Generic      7285\n",
       "Others       2240\n",
       "Determine     799\n",
       "Name: count, dtype: int64"
      ]
     },
     "execution_count": 23,
     "metadata": {},
     "output_type": "execute_result"
    }
   ],
   "source": [
    "data['Brand'].value_counts()"
   ]
  },
  {
   "cell_type": "code",
   "execution_count": null,
   "id": "e24afd97-cb9e-4efe-83e5-f8819f3e0716",
   "metadata": {},
   "outputs": [],
   "source": []
  },
  {
   "cell_type": "code",
   "execution_count": null,
   "id": "64a60058-79e9-4d24-908b-2922f35ebedd",
   "metadata": {},
   "outputs": [],
   "source": []
  },
  {
   "cell_type": "markdown",
   "id": "fc0a01f6-b92e-4ba9-bc5d-1a39be279d77",
   "metadata": {},
   "source": [
    "                         Model Bulding"
   ]
  },
  {
   "cell_type": "code",
   "execution_count": 24,
   "id": "84904716-18ac-4e5c-a54b-b4fa826cdfb2",
   "metadata": {},
   "outputs": [],
   "source": [
    "X = cleaned_data.drop(columns=['Pack Price'])\n",
    "y = cleaned_data['Pack Price']\n"
   ]
  },
  {
   "cell_type": "code",
   "execution_count": 25,
   "id": "c80e5a23-94fd-437f-95a1-cf956ddb0696",
   "metadata": {},
   "outputs": [
    {
     "data": {
      "text/plain": [
       "(9807, 32)"
      ]
     },
     "execution_count": 25,
     "metadata": {},
     "output_type": "execute_result"
    }
   ],
   "source": [
    "X.shape"
   ]
  },
  {
   "cell_type": "code",
   "execution_count": 26,
   "id": "6153c92a-356c-499f-bed4-e650289b7c43",
   "metadata": {},
   "outputs": [
    {
     "data": {
      "text/plain": [
       "['Unit of Measure (Per Pack)',\n",
       " 'Line Item Quantity',\n",
       " 'Line Item Value',\n",
       " \"Country_Côte d'Ivoire\",\n",
       " 'Country_Haiti',\n",
       " 'Country_Mozambique',\n",
       " 'Country_Nigeria',\n",
       " 'Country_Others',\n",
       " 'Country_South Africa',\n",
       " 'Country_Tanzania',\n",
       " 'Country_Uganda',\n",
       " 'Country_Vietnam',\n",
       " 'Country_Zambia',\n",
       " 'Country_Zimbabwe',\n",
       " 'Shipment Mode_Air',\n",
       " 'Shipment Mode_Air Charter',\n",
       " 'Shipment Mode_Ocean',\n",
       " 'Shipment Mode_Truck',\n",
       " 'Product Group_ACT',\n",
       " 'Product Group_ANTM',\n",
       " 'Product Group_ARV',\n",
       " 'Product Group_HRDT',\n",
       " 'Product Group_MRDT',\n",
       " 'Sub Classification_ACT',\n",
       " 'Sub Classification_Adult',\n",
       " 'Sub Classification_HIV test',\n",
       " 'Sub Classification_HIV test - Ancillary',\n",
       " 'Sub Classification_Malaria',\n",
       " 'Sub Classification_Pediatric',\n",
       " 'Brand_Determine',\n",
       " 'Brand_Generic',\n",
       " 'Brand_Others']"
      ]
     },
     "execution_count": 26,
     "metadata": {},
     "output_type": "execute_result"
    }
   ],
   "source": [
    "X.columns.tolist()"
   ]
  },
  {
   "cell_type": "code",
   "execution_count": null,
   "id": "c33cb084-f4e5-4b07-85b4-a53b7790916e",
   "metadata": {},
   "outputs": [],
   "source": []
  },
  {
   "cell_type": "code",
   "execution_count": 27,
   "id": "442a68f9-ab43-4d6b-9e42-c29de0dc21a7",
   "metadata": {},
   "outputs": [],
   "source": [
    "from sklearn.model_selection import train_test_split\n",
    "\n",
    "# Split the data into training and testing sets\n",
    "X_train, X_test, y_train, y_test = train_test_split(X, y, test_size=0.25, random_state=2)\n"
   ]
  },
  {
   "cell_type": "code",
   "execution_count": 28,
   "id": "e2e27b80-1b3c-47f6-8ec6-d92c9af59f2b",
   "metadata": {},
   "outputs": [
    {
     "name": "stdout",
     "output_type": "stream",
     "text": [
      "X_Train_Shape :  (7355, 32)\n",
      "y_Train_Shape :  (7355,)\n"
     ]
    }
   ],
   "source": [
    "# training set shape\n",
    "\n",
    "print(\"X_Train_Shape : \", X_train.shape)\n",
    "print(\"y_Train_Shape : \", y_train.shape)\n"
   ]
  },
  {
   "cell_type": "code",
   "execution_count": 29,
   "id": "9ec289ea-af3b-4113-9e3d-842ae1a946a1",
   "metadata": {},
   "outputs": [
    {
     "name": "stdout",
     "output_type": "stream",
     "text": [
      "X_Test_Shape :  (2452, 32)\n",
      "y_Test_Shape :  (2452,)\n"
     ]
    }
   ],
   "source": [
    "# testing set shape\n",
    "\n",
    "print(\"X_Test_Shape : \", X_test.shape)\n",
    "print(\"y_Test_Shape : \", y_test.shape)\n"
   ]
  },
  {
   "cell_type": "code",
   "execution_count": null,
   "id": "a0dbd186-c1c2-42e7-8b24-c7cb4775a7b9",
   "metadata": {},
   "outputs": [],
   "source": []
  },
  {
   "cell_type": "markdown",
   "id": "549be30f-e8cf-42f8-bb5f-34d77f78a17a",
   "metadata": {},
   "source": [
    "                      XGBoost Regressor"
   ]
  },
  {
   "cell_type": "raw",
   "id": "66d02a25-1167-4b4d-9da2-461743339cf8",
   "metadata": {},
   "source": [
    "# models\n",
    "from sklearn.ensemble import RandomForestRegressor, AdaBoostRegressor\n",
    "from sklearn.linear_model import LinearRegression\n",
    "from sklearn.neighbors import KNeighborsRegressor\n",
    "from sklearn.svm import SVR\n",
    "from sklearn.tree import DecisionTreeRegressor\n",
    "from xgboost import XGBRegressor"
   ]
  },
  {
   "cell_type": "raw",
   "id": "bfa18193-85bc-4482-8c9b-1a3c796916e5",
   "metadata": {},
   "source": [
    "# Define a list of regression algorithms\n",
    "regressors = {\n",
    "    \"Random Forest\": RandomForestRegressor(),\n",
    "    \"Linear Regression\": LinearRegression(),\n",
    "    \"K-Nearest Neighbors\": KNeighborsRegressor(),\n",
    "    \"Support Vector Machine\": SVR(),\n",
    "    \"Decision Tree\": DecisionTreeRegressor(),\n",
    "    \"AdaBoost\": AdaBoostRegressor(),\n",
    "    \"XGBoost\": XGBRegressor(),\n",
    "    \"Polynomial Regression\": LinearRegression()\n",
    "}\n"
   ]
  },
  {
   "cell_type": "raw",
   "id": "967ebe02-bbb4-4a7a-a8ae-5909d30caad5",
   "metadata": {},
   "source": [
    "from sklearn.model_selection import cross_val_score\n",
    "\n",
    "from sklearn.metrics import mean_absolute_error, mean_squared_error, r2_score\n",
    "\n",
    "# Function to perform cross-validation and print evaluation metrics\n",
    "def evaluate_model(name, model, X, y):\n",
    "    mae = -cross_val_score(model, X, y, cv = 5, scoring = 'neg_mean_absolute_error').mean()\n",
    "    mse = -cross_val_score(model, X, y, cv = 5, scoring = 'neg_mean_squared_error').mean()\n",
    "    rmse = (mse) ** 0.5\n",
    "    r2 = cross_val_score(model, X, y, cv = 5, scoring = 'r2').mean()\n",
    "    \n",
    "    print(f\"{name} Model Evaluation:\")\n",
    "    print(\"Mean Absolute Error:\", mae)\n",
    "    print(\"Mean Squared Error:\", mse)\n",
    "    print(\"Root Mean Squared Error:\", rmse)\n",
    "    print(\"R-squared Score:\", r2)\n",
    "    print()\n"
   ]
  },
  {
   "cell_type": "raw",
   "id": "90f69607-fc68-44cb-b853-54be9b1a8302",
   "metadata": {},
   "source": [
    "from sklearn.preprocessing import PolynomialFeatures\n",
    "\n",
    "# Perform evaluation for each regression algorithm\n",
    "for name, model in regressors.items():\n",
    "    # Special case for Polynomial Regression\n",
    "    if name == \"Polynomial Regression\":\n",
    "        poly = PolynomialFeatures(degree=2)\n",
    "        X_poly = poly.fit_transform(X_train)\n",
    "        evaluate_model(name, model, X_poly, y_train)\n",
    "    else:\n",
    "        evaluate_model(name, model, X_train, y_train)\n"
   ]
  },
  {
   "cell_type": "code",
   "execution_count": null,
   "id": "cfa67ef0-a399-4222-9b3b-9b88b1c15cb3",
   "metadata": {},
   "outputs": [],
   "source": []
  },
  {
   "cell_type": "code",
   "execution_count": null,
   "id": "8caa24fe-1996-4e68-8890-92d1712efc39",
   "metadata": {},
   "outputs": [],
   "source": []
  },
  {
   "cell_type": "code",
   "execution_count": 30,
   "id": "e9c22c33-a28a-4de6-b8c9-aa578424bc0f",
   "metadata": {},
   "outputs": [
    {
     "data": {
      "text/html": [
       "<style>#sk-container-id-1 {color: black;background-color: white;}#sk-container-id-1 pre{padding: 0;}#sk-container-id-1 div.sk-toggleable {background-color: white;}#sk-container-id-1 label.sk-toggleable__label {cursor: pointer;display: block;width: 100%;margin-bottom: 0;padding: 0.3em;box-sizing: border-box;text-align: center;}#sk-container-id-1 label.sk-toggleable__label-arrow:before {content: \"▸\";float: left;margin-right: 0.25em;color: #696969;}#sk-container-id-1 label.sk-toggleable__label-arrow:hover:before {color: black;}#sk-container-id-1 div.sk-estimator:hover label.sk-toggleable__label-arrow:before {color: black;}#sk-container-id-1 div.sk-toggleable__content {max-height: 0;max-width: 0;overflow: hidden;text-align: left;background-color: #f0f8ff;}#sk-container-id-1 div.sk-toggleable__content pre {margin: 0.2em;color: black;border-radius: 0.25em;background-color: #f0f8ff;}#sk-container-id-1 input.sk-toggleable__control:checked~div.sk-toggleable__content {max-height: 200px;max-width: 100%;overflow: auto;}#sk-container-id-1 input.sk-toggleable__control:checked~label.sk-toggleable__label-arrow:before {content: \"▾\";}#sk-container-id-1 div.sk-estimator input.sk-toggleable__control:checked~label.sk-toggleable__label {background-color: #d4ebff;}#sk-container-id-1 div.sk-label input.sk-toggleable__control:checked~label.sk-toggleable__label {background-color: #d4ebff;}#sk-container-id-1 input.sk-hidden--visually {border: 0;clip: rect(1px 1px 1px 1px);clip: rect(1px, 1px, 1px, 1px);height: 1px;margin: -1px;overflow: hidden;padding: 0;position: absolute;width: 1px;}#sk-container-id-1 div.sk-estimator {font-family: monospace;background-color: #f0f8ff;border: 1px dotted black;border-radius: 0.25em;box-sizing: border-box;margin-bottom: 0.5em;}#sk-container-id-1 div.sk-estimator:hover {background-color: #d4ebff;}#sk-container-id-1 div.sk-parallel-item::after {content: \"\";width: 100%;border-bottom: 1px solid gray;flex-grow: 1;}#sk-container-id-1 div.sk-label:hover label.sk-toggleable__label {background-color: #d4ebff;}#sk-container-id-1 div.sk-serial::before {content: \"\";position: absolute;border-left: 1px solid gray;box-sizing: border-box;top: 0;bottom: 0;left: 50%;z-index: 0;}#sk-container-id-1 div.sk-serial {display: flex;flex-direction: column;align-items: center;background-color: white;padding-right: 0.2em;padding-left: 0.2em;position: relative;}#sk-container-id-1 div.sk-item {position: relative;z-index: 1;}#sk-container-id-1 div.sk-parallel {display: flex;align-items: stretch;justify-content: center;background-color: white;position: relative;}#sk-container-id-1 div.sk-item::before, #sk-container-id-1 div.sk-parallel-item::before {content: \"\";position: absolute;border-left: 1px solid gray;box-sizing: border-box;top: 0;bottom: 0;left: 50%;z-index: -1;}#sk-container-id-1 div.sk-parallel-item {display: flex;flex-direction: column;z-index: 1;position: relative;background-color: white;}#sk-container-id-1 div.sk-parallel-item:first-child::after {align-self: flex-end;width: 50%;}#sk-container-id-1 div.sk-parallel-item:last-child::after {align-self: flex-start;width: 50%;}#sk-container-id-1 div.sk-parallel-item:only-child::after {width: 0;}#sk-container-id-1 div.sk-dashed-wrapped {border: 1px dashed gray;margin: 0 0.4em 0.5em 0.4em;box-sizing: border-box;padding-bottom: 0.4em;background-color: white;}#sk-container-id-1 div.sk-label label {font-family: monospace;font-weight: bold;display: inline-block;line-height: 1.2em;}#sk-container-id-1 div.sk-label-container {text-align: center;}#sk-container-id-1 div.sk-container {/* jupyter's `normalize.less` sets `[hidden] { display: none; }` but bootstrap.min.css set `[hidden] { display: none !important; }` so we also need the `!important` here to be able to override the default hidden behavior on the sphinx rendered scikit-learn.org. See: https://github.com/scikit-learn/scikit-learn/issues/21755 */display: inline-block !important;position: relative;}#sk-container-id-1 div.sk-text-repr-fallback {display: none;}</style><div id=\"sk-container-id-1\" class=\"sk-top-container\"><div class=\"sk-text-repr-fallback\"><pre>RandomForestRegressor(random_state=42)</pre><b>In a Jupyter environment, please rerun this cell to show the HTML representation or trust the notebook. <br />On GitHub, the HTML representation is unable to render, please try loading this page with nbviewer.org.</b></div><div class=\"sk-container\" hidden><div class=\"sk-item\"><div class=\"sk-estimator sk-toggleable\"><input class=\"sk-toggleable__control sk-hidden--visually\" id=\"sk-estimator-id-1\" type=\"checkbox\" checked><label for=\"sk-estimator-id-1\" class=\"sk-toggleable__label sk-toggleable__label-arrow\">RandomForestRegressor</label><div class=\"sk-toggleable__content\"><pre>RandomForestRegressor(random_state=42)</pre></div></div></div></div></div>"
      ],
      "text/plain": [
       "RandomForestRegressor(random_state=42)"
      ]
     },
     "execution_count": 30,
     "metadata": {},
     "output_type": "execute_result"
    }
   ],
   "source": [
    "from sklearn.ensemble import RandomForestRegressor\n",
    "\n",
    "# Initialize the Random Forest classifier\n",
    "rf = RandomForestRegressor(n_estimators=100, random_state=42)\n",
    "\n",
    "# Train the classifier on the training data\n",
    "rf.fit(X_train, y_train)"
   ]
  },
  {
   "cell_type": "code",
   "execution_count": 31,
   "id": "5cbddd23-7e63-4601-a992-e6699ddd0960",
   "metadata": {},
   "outputs": [
    {
     "name": "stdout",
     "output_type": "stream",
     "text": [
      "Random Forest Model Evaluation:\n",
      "Mean Absolute Error: 1.2952984910277328\n",
      "Mean Squared Error: 15.54270724580343\n",
      "Root Mean Squared Error: 3.9424240317098604\n",
      "R-squared Score: 0.9736543731516387\n"
     ]
    }
   ],
   "source": [
    "# Make predictions on the testing data\n",
    "y_test_pred = rf.predict(X_test)\n",
    "\n",
    "from sklearn.metrics import mean_absolute_error, mean_squared_error, r2_score\n",
    "\n",
    "# Evaluate the model\n",
    "mae = mean_absolute_error(y_test, y_test_pred)\n",
    "mse = mean_squared_error(y_test, y_test_pred)\n",
    "rmse = mean_squared_error(y_test, y_test_pred, squared=False)\n",
    "r2 = r2_score(y_test, y_test_pred)\n",
    "\n",
    "print(\"Random Forest Model Evaluation:\")\n",
    "print(\"Mean Absolute Error:\", mae)\n",
    "print(\"Mean Squared Error:\", mse)\n",
    "print(\"Root Mean Squared Error:\", rmse)\n",
    "print(\"R-squared Score:\", r2)"
   ]
  },
  {
   "cell_type": "code",
   "execution_count": null,
   "id": "11d6f1aa-1894-4ea3-b527-3da951c3d043",
   "metadata": {},
   "outputs": [],
   "source": []
  },
  {
   "cell_type": "code",
   "execution_count": 32,
   "id": "a4f444f5-e8d4-4682-9d39-5335a0bc90ea",
   "metadata": {},
   "outputs": [
    {
     "name": "stdout",
     "output_type": "stream",
     "text": [
      "Random Forest Model Evaluation:\n",
      "Mean Absolute Error: 0.5066464445955134\n",
      "Mean Squared Error: 2.68125039161659\n",
      "Root Mean Squared Error: 1.6374524089623461\n",
      "R-squared Score: 0.9954825300099039\n"
     ]
    }
   ],
   "source": [
    "# Make predictions on the testing data\n",
    "y_train_pred = rf.predict(X_train)\n",
    "\n",
    "from sklearn.metrics import mean_absolute_error, mean_squared_error, r2_score\n",
    "\n",
    "# Evaluate the model\n",
    "mae = mean_absolute_error(y_train, y_train_pred)\n",
    "mse = mean_squared_error(y_train, y_train_pred)\n",
    "rmse = mean_squared_error(y_train, y_train_pred, squared = False)\n",
    "r2 = r2_score(y_train, y_train_pred)\n",
    "\n",
    "print(\"Random Forest Model Evaluation:\")\n",
    "print(\"Mean Absolute Error:\", mae)\n",
    "print(\"Mean Squared Error:\", mse)\n",
    "print(\"Root Mean Squared Error:\", rmse)\n",
    "print(\"R-squared Score:\", r2)"
   ]
  },
  {
   "cell_type": "code",
   "execution_count": null,
   "id": "189c2ac2-04a9-4abe-a410-fd6e4d21b407",
   "metadata": {},
   "outputs": [],
   "source": []
  },
  {
   "cell_type": "code",
   "execution_count": null,
   "id": "4bce1388-2b3b-46e0-918e-7188bc87d70b",
   "metadata": {},
   "outputs": [],
   "source": []
  },
  {
   "cell_type": "code",
   "execution_count": 33,
   "id": "c5671f77-1028-4212-88ce-cc598877c98f",
   "metadata": {},
   "outputs": [
    {
     "data": {
      "text/html": [
       "<style>#sk-container-id-2 {color: black;background-color: white;}#sk-container-id-2 pre{padding: 0;}#sk-container-id-2 div.sk-toggleable {background-color: white;}#sk-container-id-2 label.sk-toggleable__label {cursor: pointer;display: block;width: 100%;margin-bottom: 0;padding: 0.3em;box-sizing: border-box;text-align: center;}#sk-container-id-2 label.sk-toggleable__label-arrow:before {content: \"▸\";float: left;margin-right: 0.25em;color: #696969;}#sk-container-id-2 label.sk-toggleable__label-arrow:hover:before {color: black;}#sk-container-id-2 div.sk-estimator:hover label.sk-toggleable__label-arrow:before {color: black;}#sk-container-id-2 div.sk-toggleable__content {max-height: 0;max-width: 0;overflow: hidden;text-align: left;background-color: #f0f8ff;}#sk-container-id-2 div.sk-toggleable__content pre {margin: 0.2em;color: black;border-radius: 0.25em;background-color: #f0f8ff;}#sk-container-id-2 input.sk-toggleable__control:checked~div.sk-toggleable__content {max-height: 200px;max-width: 100%;overflow: auto;}#sk-container-id-2 input.sk-toggleable__control:checked~label.sk-toggleable__label-arrow:before {content: \"▾\";}#sk-container-id-2 div.sk-estimator input.sk-toggleable__control:checked~label.sk-toggleable__label {background-color: #d4ebff;}#sk-container-id-2 div.sk-label input.sk-toggleable__control:checked~label.sk-toggleable__label {background-color: #d4ebff;}#sk-container-id-2 input.sk-hidden--visually {border: 0;clip: rect(1px 1px 1px 1px);clip: rect(1px, 1px, 1px, 1px);height: 1px;margin: -1px;overflow: hidden;padding: 0;position: absolute;width: 1px;}#sk-container-id-2 div.sk-estimator {font-family: monospace;background-color: #f0f8ff;border: 1px dotted black;border-radius: 0.25em;box-sizing: border-box;margin-bottom: 0.5em;}#sk-container-id-2 div.sk-estimator:hover {background-color: #d4ebff;}#sk-container-id-2 div.sk-parallel-item::after {content: \"\";width: 100%;border-bottom: 1px solid gray;flex-grow: 1;}#sk-container-id-2 div.sk-label:hover label.sk-toggleable__label {background-color: #d4ebff;}#sk-container-id-2 div.sk-serial::before {content: \"\";position: absolute;border-left: 1px solid gray;box-sizing: border-box;top: 0;bottom: 0;left: 50%;z-index: 0;}#sk-container-id-2 div.sk-serial {display: flex;flex-direction: column;align-items: center;background-color: white;padding-right: 0.2em;padding-left: 0.2em;position: relative;}#sk-container-id-2 div.sk-item {position: relative;z-index: 1;}#sk-container-id-2 div.sk-parallel {display: flex;align-items: stretch;justify-content: center;background-color: white;position: relative;}#sk-container-id-2 div.sk-item::before, #sk-container-id-2 div.sk-parallel-item::before {content: \"\";position: absolute;border-left: 1px solid gray;box-sizing: border-box;top: 0;bottom: 0;left: 50%;z-index: -1;}#sk-container-id-2 div.sk-parallel-item {display: flex;flex-direction: column;z-index: 1;position: relative;background-color: white;}#sk-container-id-2 div.sk-parallel-item:first-child::after {align-self: flex-end;width: 50%;}#sk-container-id-2 div.sk-parallel-item:last-child::after {align-self: flex-start;width: 50%;}#sk-container-id-2 div.sk-parallel-item:only-child::after {width: 0;}#sk-container-id-2 div.sk-dashed-wrapped {border: 1px dashed gray;margin: 0 0.4em 0.5em 0.4em;box-sizing: border-box;padding-bottom: 0.4em;background-color: white;}#sk-container-id-2 div.sk-label label {font-family: monospace;font-weight: bold;display: inline-block;line-height: 1.2em;}#sk-container-id-2 div.sk-label-container {text-align: center;}#sk-container-id-2 div.sk-container {/* jupyter's `normalize.less` sets `[hidden] { display: none; }` but bootstrap.min.css set `[hidden] { display: none !important; }` so we also need the `!important` here to be able to override the default hidden behavior on the sphinx rendered scikit-learn.org. See: https://github.com/scikit-learn/scikit-learn/issues/21755 */display: inline-block !important;position: relative;}#sk-container-id-2 div.sk-text-repr-fallback {display: none;}</style><div id=\"sk-container-id-2\" class=\"sk-top-container\"><div class=\"sk-text-repr-fallback\"><pre>DecisionTreeRegressor(random_state=42)</pre><b>In a Jupyter environment, please rerun this cell to show the HTML representation or trust the notebook. <br />On GitHub, the HTML representation is unable to render, please try loading this page with nbviewer.org.</b></div><div class=\"sk-container\" hidden><div class=\"sk-item\"><div class=\"sk-estimator sk-toggleable\"><input class=\"sk-toggleable__control sk-hidden--visually\" id=\"sk-estimator-id-2\" type=\"checkbox\" checked><label for=\"sk-estimator-id-2\" class=\"sk-toggleable__label sk-toggleable__label-arrow\">DecisionTreeRegressor</label><div class=\"sk-toggleable__content\"><pre>DecisionTreeRegressor(random_state=42)</pre></div></div></div></div></div>"
      ],
      "text/plain": [
       "DecisionTreeRegressor(random_state=42)"
      ]
     },
     "execution_count": 33,
     "metadata": {},
     "output_type": "execute_result"
    }
   ],
   "source": [
    "from sklearn.tree import DecisionTreeRegressor\n",
    "from sklearn.metrics import mean_squared_error\n",
    "\n",
    "# Initialize Decision Tree regressor\n",
    "tr = DecisionTreeRegressor(random_state=42)\n",
    "\n",
    "# Train the regressor on the scaled training data\n",
    "tr.fit(X_train, y_train)\n"
   ]
  },
  {
   "cell_type": "code",
   "execution_count": 34,
   "id": "6e5426a4-df86-4c27-a080-97a9c2c566fa",
   "metadata": {},
   "outputs": [
    {
     "name": "stdout",
     "output_type": "stream",
     "text": [
      "Decision Tree Regressor Model Evaluation:\n",
      "Mean Absolute Error: 1.5757055464926593\n",
      "Mean Squared Error: 25.796549225122348\n",
      "Root Mean Squared Error: 5.0790303430007535\n",
      "R-squared Score: 0.9562736240789739\n"
     ]
    }
   ],
   "source": [
    "# Make predictions on the testing data\n",
    "y_test_pred = tr.predict(X_test)\n",
    "\n",
    "from sklearn.metrics import mean_absolute_error, mean_squared_error, r2_score\n",
    "\n",
    "# Evaluate the model\n",
    "mae = mean_absolute_error(y_test, y_test_pred)\n",
    "mse = mean_squared_error(y_test, y_test_pred)\n",
    "rmse = mean_squared_error(y_test, y_test_pred, squared=False)\n",
    "r2 = r2_score(y_test, y_test_pred)\n",
    "\n",
    "print(\"Decision Tree Regressor Model Evaluation:\")\n",
    "print(\"Mean Absolute Error:\", mae)\n",
    "print(\"Mean Squared Error:\", mse)\n",
    "print(\"Root Mean Squared Error:\", rmse)\n",
    "print(\"R-squared Score:\", r2)"
   ]
  },
  {
   "cell_type": "code",
   "execution_count": 35,
   "id": "773bfe4e-d570-4037-bc1e-a6e0cd56e916",
   "metadata": {},
   "outputs": [
    {
     "name": "stdout",
     "output_type": "stream",
     "text": [
      "Decision Tree Regressor Model Evaluation:\n",
      "Mean Absolute Error: 7.077459511267714e-17\n",
      "Mean Squared Error: 6.360895085553747e-31\n",
      "Root Mean Squared Error: 7.975521980130044e-16\n",
      "R-squared Score: 1.0\n"
     ]
    }
   ],
   "source": [
    "# Make predictions on the testing data\n",
    "y_train_pred = tr.predict(X_train)\n",
    "\n",
    "from sklearn.metrics import mean_absolute_error, mean_squared_error, r2_score\n",
    "\n",
    "# Evaluate the model\n",
    "mae = mean_absolute_error(y_train, y_train_pred)\n",
    "mse = mean_squared_error(y_train, y_train_pred)\n",
    "rmse = mean_squared_error(y_train, y_train_pred, squared = False)\n",
    "r2 = r2_score(y_train, y_train_pred)\n",
    "\n",
    "print(\"Decision Tree Regressor Model Evaluation:\")\n",
    "print(\"Mean Absolute Error:\", mae)\n",
    "print(\"Mean Squared Error:\", mse)\n",
    "print(\"Root Mean Squared Error:\", rmse)\n",
    "print(\"R-squared Score:\", r2)"
   ]
  },
  {
   "cell_type": "code",
   "execution_count": null,
   "id": "fc551f43-74d3-4e7f-9830-96ce03c423d8",
   "metadata": {},
   "outputs": [],
   "source": []
  },
  {
   "cell_type": "code",
   "execution_count": null,
   "id": "2c0e5e5f-7a3b-4da5-934e-cab29d12eb25",
   "metadata": {},
   "outputs": [],
   "source": []
  },
  {
   "cell_type": "code",
   "execution_count": 36,
   "id": "4dc60484-435c-4375-a859-e2aeb9733e01",
   "metadata": {},
   "outputs": [
    {
     "data": {
      "text/html": [
       "<style>#sk-container-id-3 {color: black;background-color: white;}#sk-container-id-3 pre{padding: 0;}#sk-container-id-3 div.sk-toggleable {background-color: white;}#sk-container-id-3 label.sk-toggleable__label {cursor: pointer;display: block;width: 100%;margin-bottom: 0;padding: 0.3em;box-sizing: border-box;text-align: center;}#sk-container-id-3 label.sk-toggleable__label-arrow:before {content: \"▸\";float: left;margin-right: 0.25em;color: #696969;}#sk-container-id-3 label.sk-toggleable__label-arrow:hover:before {color: black;}#sk-container-id-3 div.sk-estimator:hover label.sk-toggleable__label-arrow:before {color: black;}#sk-container-id-3 div.sk-toggleable__content {max-height: 0;max-width: 0;overflow: hidden;text-align: left;background-color: #f0f8ff;}#sk-container-id-3 div.sk-toggleable__content pre {margin: 0.2em;color: black;border-radius: 0.25em;background-color: #f0f8ff;}#sk-container-id-3 input.sk-toggleable__control:checked~div.sk-toggleable__content {max-height: 200px;max-width: 100%;overflow: auto;}#sk-container-id-3 input.sk-toggleable__control:checked~label.sk-toggleable__label-arrow:before {content: \"▾\";}#sk-container-id-3 div.sk-estimator input.sk-toggleable__control:checked~label.sk-toggleable__label {background-color: #d4ebff;}#sk-container-id-3 div.sk-label input.sk-toggleable__control:checked~label.sk-toggleable__label {background-color: #d4ebff;}#sk-container-id-3 input.sk-hidden--visually {border: 0;clip: rect(1px 1px 1px 1px);clip: rect(1px, 1px, 1px, 1px);height: 1px;margin: -1px;overflow: hidden;padding: 0;position: absolute;width: 1px;}#sk-container-id-3 div.sk-estimator {font-family: monospace;background-color: #f0f8ff;border: 1px dotted black;border-radius: 0.25em;box-sizing: border-box;margin-bottom: 0.5em;}#sk-container-id-3 div.sk-estimator:hover {background-color: #d4ebff;}#sk-container-id-3 div.sk-parallel-item::after {content: \"\";width: 100%;border-bottom: 1px solid gray;flex-grow: 1;}#sk-container-id-3 div.sk-label:hover label.sk-toggleable__label {background-color: #d4ebff;}#sk-container-id-3 div.sk-serial::before {content: \"\";position: absolute;border-left: 1px solid gray;box-sizing: border-box;top: 0;bottom: 0;left: 50%;z-index: 0;}#sk-container-id-3 div.sk-serial {display: flex;flex-direction: column;align-items: center;background-color: white;padding-right: 0.2em;padding-left: 0.2em;position: relative;}#sk-container-id-3 div.sk-item {position: relative;z-index: 1;}#sk-container-id-3 div.sk-parallel {display: flex;align-items: stretch;justify-content: center;background-color: white;position: relative;}#sk-container-id-3 div.sk-item::before, #sk-container-id-3 div.sk-parallel-item::before {content: \"\";position: absolute;border-left: 1px solid gray;box-sizing: border-box;top: 0;bottom: 0;left: 50%;z-index: -1;}#sk-container-id-3 div.sk-parallel-item {display: flex;flex-direction: column;z-index: 1;position: relative;background-color: white;}#sk-container-id-3 div.sk-parallel-item:first-child::after {align-self: flex-end;width: 50%;}#sk-container-id-3 div.sk-parallel-item:last-child::after {align-self: flex-start;width: 50%;}#sk-container-id-3 div.sk-parallel-item:only-child::after {width: 0;}#sk-container-id-3 div.sk-dashed-wrapped {border: 1px dashed gray;margin: 0 0.4em 0.5em 0.4em;box-sizing: border-box;padding-bottom: 0.4em;background-color: white;}#sk-container-id-3 div.sk-label label {font-family: monospace;font-weight: bold;display: inline-block;line-height: 1.2em;}#sk-container-id-3 div.sk-label-container {text-align: center;}#sk-container-id-3 div.sk-container {/* jupyter's `normalize.less` sets `[hidden] { display: none; }` but bootstrap.min.css set `[hidden] { display: none !important; }` so we also need the `!important` here to be able to override the default hidden behavior on the sphinx rendered scikit-learn.org. See: https://github.com/scikit-learn/scikit-learn/issues/21755 */display: inline-block !important;position: relative;}#sk-container-id-3 div.sk-text-repr-fallback {display: none;}</style><div id=\"sk-container-id-3\" class=\"sk-top-container\"><div class=\"sk-text-repr-fallback\"><pre>XGBRegressor(base_score=None, booster=None, callbacks=None,\n",
       "             colsample_bylevel=None, colsample_bynode=None,\n",
       "             colsample_bytree=None, device=None, early_stopping_rounds=None,\n",
       "             enable_categorical=False, eval_metric=None, feature_types=None,\n",
       "             gamma=None, grow_policy=None, importance_type=None,\n",
       "             interaction_constraints=None, learning_rate=None, max_bin=None,\n",
       "             max_cat_threshold=None, max_cat_to_onehot=None,\n",
       "             max_delta_step=None, max_depth=None, max_leaves=None,\n",
       "             min_child_weight=None, missing=nan, monotone_constraints=None,\n",
       "             multi_strategy=None, n_estimators=None, n_jobs=None,\n",
       "             num_parallel_tree=None, random_state=42, ...)</pre><b>In a Jupyter environment, please rerun this cell to show the HTML representation or trust the notebook. <br />On GitHub, the HTML representation is unable to render, please try loading this page with nbviewer.org.</b></div><div class=\"sk-container\" hidden><div class=\"sk-item\"><div class=\"sk-estimator sk-toggleable\"><input class=\"sk-toggleable__control sk-hidden--visually\" id=\"sk-estimator-id-3\" type=\"checkbox\" checked><label for=\"sk-estimator-id-3\" class=\"sk-toggleable__label sk-toggleable__label-arrow\">XGBRegressor</label><div class=\"sk-toggleable__content\"><pre>XGBRegressor(base_score=None, booster=None, callbacks=None,\n",
       "             colsample_bylevel=None, colsample_bynode=None,\n",
       "             colsample_bytree=None, device=None, early_stopping_rounds=None,\n",
       "             enable_categorical=False, eval_metric=None, feature_types=None,\n",
       "             gamma=None, grow_policy=None, importance_type=None,\n",
       "             interaction_constraints=None, learning_rate=None, max_bin=None,\n",
       "             max_cat_threshold=None, max_cat_to_onehot=None,\n",
       "             max_delta_step=None, max_depth=None, max_leaves=None,\n",
       "             min_child_weight=None, missing=nan, monotone_constraints=None,\n",
       "             multi_strategy=None, n_estimators=None, n_jobs=None,\n",
       "             num_parallel_tree=None, random_state=42, ...)</pre></div></div></div></div></div>"
      ],
      "text/plain": [
       "XGBRegressor(base_score=None, booster=None, callbacks=None,\n",
       "             colsample_bylevel=None, colsample_bynode=None,\n",
       "             colsample_bytree=None, device=None, early_stopping_rounds=None,\n",
       "             enable_categorical=False, eval_metric=None, feature_types=None,\n",
       "             gamma=None, grow_policy=None, importance_type=None,\n",
       "             interaction_constraints=None, learning_rate=None, max_bin=None,\n",
       "             max_cat_threshold=None, max_cat_to_onehot=None,\n",
       "             max_delta_step=None, max_depth=None, max_leaves=None,\n",
       "             min_child_weight=None, missing=nan, monotone_constraints=None,\n",
       "             multi_strategy=None, n_estimators=None, n_jobs=None,\n",
       "             num_parallel_tree=None, random_state=42, ...)"
      ]
     },
     "execution_count": 36,
     "metadata": {},
     "output_type": "execute_result"
    }
   ],
   "source": [
    "import xgboost as xgb\n",
    "\n",
    "# Initialize XGBoost regressor\n",
    "xgb = xgb.XGBRegressor(objective ='reg:squarederror', random_state=42)\n",
    "\n",
    "# Train the regressor on the scaled training data\n",
    "xgb.fit(X_train, y_train)"
   ]
  },
  {
   "cell_type": "code",
   "execution_count": 37,
   "id": "d203fa27-7be7-4429-a2d7-47c21a9cb04f",
   "metadata": {},
   "outputs": [
    {
     "name": "stdout",
     "output_type": "stream",
     "text": [
      "XGBoost Regressor Model Evaluation:\n",
      "Mean Absolute Error: 1.3816557706456152\n",
      "Mean Squared Error: 12.003008208641226\n",
      "Root Mean Squared Error: 3.464535785446764\n",
      "R-squared Score: 0.9796543311070817\n"
     ]
    }
   ],
   "source": [
    "# Make predictions on the testing data\n",
    "y_test_pred = xgb.predict(X_test)\n",
    "\n",
    "from sklearn.metrics import mean_absolute_error, mean_squared_error, r2_score\n",
    "\n",
    "# Evaluate the model\n",
    "mae = mean_absolute_error(y_test, y_test_pred)\n",
    "mse = mean_squared_error(y_test, y_test_pred)\n",
    "rmse = mean_squared_error(y_test, y_test_pred, squared=False)\n",
    "r2 = r2_score(y_test, y_test_pred)\n",
    "\n",
    "print(\"XGBoost Regressor Model Evaluation:\")\n",
    "print(\"Mean Absolute Error:\", mae)\n",
    "print(\"Mean Squared Error:\", mse)\n",
    "print(\"Root Mean Squared Error:\", rmse)\n",
    "print(\"R-squared Score:\", r2)"
   ]
  },
  {
   "cell_type": "code",
   "execution_count": 38,
   "id": "8773f543-fd75-4c46-836c-f52eacd132c5",
   "metadata": {},
   "outputs": [
    {
     "name": "stdout",
     "output_type": "stream",
     "text": [
      "XGBoost Regressor Model Evaluation:\n",
      "Mean Absolute Error: 0.6157811192378281\n",
      "Mean Squared Error: 0.9927046149232058\n",
      "Root Mean Squared Error: 0.9963456302524771\n",
      "R-squared Score: 0.9983274544887837\n"
     ]
    }
   ],
   "source": [
    "# Make predictions on the testing data\n",
    "y_train_pred = xgb.predict(X_train)\n",
    "\n",
    "from sklearn.metrics import mean_absolute_error, mean_squared_error, r2_score\n",
    "\n",
    "# Evaluate the model\n",
    "mae = mean_absolute_error(y_train, y_train_pred)\n",
    "mse = mean_squared_error(y_train, y_train_pred)\n",
    "rmse = mean_squared_error(y_train, y_train_pred, squared = False)\n",
    "r2 = r2_score(y_train, y_train_pred)\n",
    "\n",
    "print(\"XGBoost Regressor Model Evaluation:\")\n",
    "print(\"Mean Absolute Error:\", mae)\n",
    "print(\"Mean Squared Error:\", mse)\n",
    "print(\"Root Mean Squared Error:\", rmse)\n",
    "print(\"R-squared Score:\", r2)"
   ]
  },
  {
   "cell_type": "code",
   "execution_count": null,
   "id": "e796d208-bc5d-420e-810c-f326c7b70236",
   "metadata": {},
   "outputs": [],
   "source": []
  },
  {
   "cell_type": "code",
   "execution_count": 39,
   "id": "a8baebf5-102c-49cf-ad1f-9c38f8d71f67",
   "metadata": {},
   "outputs": [
    {
     "data": {
      "text/plain": [
       "['model_02.pkl']"
      ]
     },
     "execution_count": 39,
     "metadata": {},
     "output_type": "execute_result"
    }
   ],
   "source": [
    "import joblib\n",
    "\n",
    "# Assuming model is your trained machine learning model\n",
    "joblib.dump(xgb, 'model_02.pkl')"
   ]
  }
 ],
 "metadata": {
  "kernelspec": {
   "display_name": "Python 3 (ipykernel)",
   "language": "python",
   "name": "python3"
  },
  "language_info": {
   "codemirror_mode": {
    "name": "ipython",
    "version": 3
   },
   "file_extension": ".py",
   "mimetype": "text/x-python",
   "name": "python",
   "nbconvert_exporter": "python",
   "pygments_lexer": "ipython3",
   "version": "3.11.7"
  }
 },
 "nbformat": 4,
 "nbformat_minor": 5
}
